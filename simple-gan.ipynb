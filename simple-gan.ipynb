{
 "cells": [
  {
   "cell_type": "markdown",
   "id": "04d98c3a-df39-474d-8cb4-294181f94b49",
   "metadata": {},
   "source": [
    "# Generative Adversarial Networks (GANs)\n",
    "\n",
    "## Very Simple One Layer GAN\n",
    "\n",
    "In order to understand the basic concept of GANs, we build a pair of simple one-layer GANs which generate simple 2x2 black and white images.\n",
    "\n",
    "Inspired by: [gans by Luis Serrano](https://github.com/luisguiserrano/gans)"
   ]
  },
  {
   "cell_type": "code",
   "execution_count": 1,
   "id": "a177476d-14d6-45f7-b70a-cf3dcbeae60b",
   "metadata": {},
   "outputs": [],
   "source": [
    "import numpy as np\n",
    "import mlplot"
   ]
  },
  {
   "cell_type": "markdown",
   "id": "8ec17b05-ba29-40e3-ac09-48cf7c7652bd",
   "metadata": {},
   "source": [
    "### Real Data"
   ]
  },
  {
   "cell_type": "code",
   "execution_count": 2,
   "id": "9edc8a60-dfb1-4940-a992-0e799ce87a33",
   "metadata": {},
   "outputs": [
    {
     "data": {
      "image/png": "[encoded data removed]",
      "text/plain": [
       "<Figure size 720x144 with 5 Axes>"
      ]
     },
     "metadata": {
      "needs_background": "light"
     },
     "output_type": "display_data"
    }
   ],
   "source": [
    "real_data = [np.array([1.0, 0.0, 0.0, 1.0]),\n",
    "             np.array([0.9, 0.1, 0.2, 0.8]),\n",
    "             np.array([0.9, 0.2, 0.1, 0.8]),\n",
    "             np.array([0.8, 0.1, 0.2, 0.9]),\n",
    "             np.array([0.8, 0.2, 0.1, 0.9])]\n",
    "    \n",
    "mlplot.plot_gan_samples(real_data);"
   ]
  },
  {
   "cell_type": "markdown",
   "id": "6c35e436-71f9-4fc5-86f1-9c34db8d3c34",
   "metadata": {},
   "source": [
    "### Exemplarey Noise Data"
   ]
  },
  {
   "cell_type": "code",
   "execution_count": 3,
   "id": "a45b7dc8-0876-489a-a800-146aaea89178",
   "metadata": {},
   "outputs": [
    {
     "data": {
      "image/png": "[encoded data removed]",
      "text/plain": [
       "<Figure size 720x144 with 10 Axes>"
      ]
     },
     "metadata": {
      "needs_background": "light"
     },
     "output_type": "display_data"
    }
   ],
   "source": [
    "noise = [np.random.randn(2,2) for i in range(10)]\n",
    "mlplot.plot_gan_samples(noise);"
   ]
  },
  {
   "cell_type": "code",
   "execution_count": 4,
   "id": "8430b34b-6f78-4961-b14b-91dfd275047f",
   "metadata": {},
   "outputs": [],
   "source": [
    "def sigmoid(x):\n",
    "    return np.exp(x)/(1.0+np.exp(x))"
   ]
  },
  {
   "cell_type": "markdown",
   "id": "b81ccac0-f10d-4ba9-89ce-c09ca71b291f",
   "metadata": {},
   "source": [
    "### The Discriminator\n",
    "\n",
    "The discriminator in a GAN is a **classifier** $D(x, w, c)$ which models the **probability**\n",
    "\n",
    "$$D(x) = \\sigma(x_1 w_1 + x_2 w_2 + x_3 w_3 + x_4 w_4 + c)$$\n",
    "\n",
    "that the data $x$ came from the **real dataset** or not. \n",
    "\n",
    "This is a **binary classification problem**.\n",
    "\n",
    "![GAN Discriminator](images/gan-discriminator.svg)\n",
    "\n",
    "It’s weights $w$ are updated as to **maximize** the probability $D(x)$ that any **real** data input $x$ is classified as belonging to the **real** dataset, while **minimizing** the probability $D(x) = D(G(z))$ that any **fake** data $G(z)$ is classified as belonging to the **real** dataset.\n",
    "\n",
    "For the **real data** $x_r$, we want the discriminator to **identify real** data, hence we want the **prediction to be $1$**, so we use the **loss function**\n",
    "\n",
    "$$E = -ln(D(x_r))$$\n",
    "\n",
    "with its derivative\n",
    "\n",
    "$$\n",
    "\\begin{aligned}\n",
    "   \\frac{\\partial E}{\\partial w_i} &= \\frac{\\partial E}{\\partial D} \\frac{\\partial D}{\\partial w_i} \\\\[5pt]\n",
    "                                   &= \\frac{-1}{D(x)} \\cdot D(x) \\, \\big(1 - D(x) \\big) \\, x_i \\\\[5pt]\n",
    "                                   &= - \\big(1 - D(x) \\big) \\, x_i\n",
    "\\end{aligned}\n",
    "$$\n",
    "\n",
    "For **fake data** $x_f = G(z)$, we want the discriminator to **identify** the data as being **not real** hence we want the **prediction to be $0$**, so we use the **loss function**\n",
    "\n",
    "$$E = -ln(1 - D(x_f))$$\n",
    "\n",
    "with its derivative\n",
    "\n",
    "$$\n",
    "\\begin{aligned}\n",
    "   \\frac{\\partial E}{\\partial w_i} &= \\frac{\\partial E}{\\partial D} \\frac{\\partial D}{\\partial w_i} \\\\[5pt]\n",
    "                                   &= \\frac{1}{1 - D(x)} \\cdot D(x) \\, \\big(1 - D(x) \\big) \\, x_i \\\\[5pt]\n",
    "                                   &= D(x) \\, x_i\n",
    "\\end{aligned}\n",
    "$$"
   ]
  },
  {
   "cell_type": "code",
   "execution_count": 5,
   "id": "dc5a307c-edac-4ba8-adbf-1decacaed83d",
   "metadata": {},
   "outputs": [
    {
     "data": {
      "image/png": "[encoded data removed]",
      "text/plain": [
       "<Figure size 432x288 with 1 Axes>"
      ]
     },
     "metadata": {
      "needs_background": "light"
     },
     "output_type": "display_data"
    }
   ],
   "source": [
    "mlplot.plot_log();"
   ]
  },
  {
   "cell_type": "code",
   "execution_count": 6,
   "id": "3f50d1b5-aab3-4656-be0d-c91c819a4334",
   "metadata": {},
   "outputs": [],
   "source": [
    "class Discriminator:\n",
    "    def __init__(self, lr):\n",
    "        self.weights = np.array([np.random.normal() for i in range(4)])\n",
    "        self.bias = np.random.normal()\n",
    "        self.lr = lr\n",
    "    \n",
    "    def forward(self, x):\n",
    "        return sigmoid(np.dot(x, self.weights) + self.bias)\n",
    "    \n",
    "    def error_real_data(self, data):\n",
    "        prediction = self.forward(data)\n",
    "        return - np.log(prediction)\n",
    "    \n",
    "    def backward_real_data(self, data):\n",
    "        prediction = self.forward(data)\n",
    "        weights = - (1 - prediction) * data\n",
    "        bias = - (1 - prediction)\n",
    "        self.weights -= self.lr * weights\n",
    "        self.bias -= self.lr * bias\n",
    "\n",
    "    def error_fake_data(self, data):\n",
    "        prediction = self.forward(data)\n",
    "        return - np.log(1 - prediction)\n",
    "    \n",
    "    def backward_fake_data(self, data):\n",
    "        prediction = self.forward(data)\n",
    "        weights = data * prediction\n",
    "        bias = prediction\n",
    "        self.weights -= self.lr * weights\n",
    "        self.bias -= self.lr * bias "
   ]
  },
  {
   "cell_type": "markdown",
   "id": "4ebf2d04-2ff9-4b63-9696-037d3e8c0656",
   "metadata": {},
   "source": [
    "### The Generator\n",
    "\n",
    "The generator is trained to fool the discriminator by generating data as similar as possible to the real data. \n",
    "\n",
    "The generators weights $w$ are updated as to **maximize** the probability $D(G(z))$ that any **fake** data $G(z)$ is classified by the discriminator as belonging to the **real** dataset.\n",
    "\n",
    "![GAN Generator](images/gan-generator.svg)\n",
    "\n",
    "For the **fake data** $G(z) = (g_1, g_2, g_3, g_4)$ with $g_i = \\sigma(v_i z + b_i)$, we want the **prediction of the discriminator to be $1$**, so we use the **loss function**\n",
    "\n",
    "$$E = -ln(D(G(z)))$$\n",
    "\n",
    "with\n",
    "\n",
    "$$\n",
    "\\begin{aligned}\n",
    "G(z) &= (g_1, g_2, g_3, g_4) \\\\\n",
    "g_i &= \\sigma(v_i z + b_i) \\\\\n",
    "D(G(z)) &= \\sigma \\big(\\sigma(v_1 z + c_1) \\cdot w_1 + \\sigma(v_2 z + c_2) \\cdot w_2 + \\sigma(v_3 z + c_3) \\cdot w_3 + \\sigma(v_4 z + c_4) \\cdot w_4 + c\\big)\n",
    "\\end{aligned}\n",
    "$$\n",
    "\n",
    "and its derivatives\n",
    "\n",
    "$$\n",
    "\\begin{aligned}\n",
    "   \\frac{\\partial E}{\\partial v_i} &= \\frac{\\partial E}{\\partial D} \\frac{\\partial D}{\\partial G} \\frac{\\partial G}{\\partial v_i} = - \\big(1 - D(G(z)) \\big) \\cdot g_i (1 - g_i) \\cdot z \\\\[5pt]\n",
    "   \\frac{\\partial E}{\\partial b_i} &= \\frac{\\partial E}{\\partial D} \\frac{\\partial D}{\\partial G} \\frac{\\partial G}{\\partial b_i} = - \\big(1 - D(G(z)) \\big) \\cdot g_i (1 - g_i) \\\\[5pt]\n",
    "\\end{aligned}\n",
    "$$"
   ]
  },
  {
   "cell_type": "code",
   "execution_count": 7,
   "id": "02dc859b-d173-47c4-84f9-0d137541d3cf",
   "metadata": {},
   "outputs": [],
   "source": [
    "class Generator:\n",
    "    def __init__(self, lr):\n",
    "        self.weights = np.array([np.random.normal() for i in range(4)])\n",
    "        self.biases = np.array([np.random.normal() for i in range(4)])\n",
    "        self.lr = lr\n",
    "\n",
    "    def forward(self, z):\n",
    "        return sigmoid(z * self.weights + self.biases)\n",
    "\n",
    "    def error(self, z, discriminator):\n",
    "        data = self.forward(z)\n",
    "        prediction = discriminator.forward(data)\n",
    "        return - np.log(prediction)\n",
    "\n",
    "    def backward(self, z, discriminator):\n",
    "        data = self.forward(z)\n",
    "        prediction = discriminator.forward(data)\n",
    "        factor = - (1 - prediction) * discriminator.weights * data * (1 - data)\n",
    "        self.weights -= self.lr * factor * z\n",
    "        self.biases -= self.lr * factor"
   ]
  },
  {
   "cell_type": "markdown",
   "id": "edcb0273-235f-4258-88fd-ec88078ae4cb",
   "metadata": {},
   "source": [
    "### Training"
   ]
  },
  {
   "cell_type": "code",
   "execution_count": 8,
   "id": "069c29df-9933-4654-902c-b1fa8477ec74",
   "metadata": {},
   "outputs": [
    {
     "data": {
      "application/vnd.jupyter.widget-view+json": {
       "model_id": "90f4482b3ab74f35b8c2ad12beee5810",
       "version_major": 2,
       "version_minor": 0
      },
      "text/plain": [
       "  0%|          | 0/1000 [00:00<?, ?it/s]"
      ]
     },
     "metadata": {},
     "output_type": "display_data"
    }
   ],
   "source": [
    "from tqdm.notebook import trange\n",
    "\n",
    "np.random.seed(3583795213)\n",
    "\n",
    "# hyperparameters\n",
    "learning_rate = 0.01\n",
    "epochs = 1000\n",
    "\n",
    "# the GAN\n",
    "D = Discriminator(learning_rate)\n",
    "G = Generator(learning_rate)\n",
    "\n",
    "# error plots\n",
    "discriminator_errors = []\n",
    "generator_errors = []\n",
    "\n",
    "# generated images plot\n",
    "images = []\n",
    "\n",
    "for epoch in trange(epochs):\n",
    "    \n",
    "    discriminator_error = []\n",
    "    generator_error = []\n",
    "    fake_datas = []\n",
    "    \n",
    "    for data in real_data:\n",
    "        \n",
    "        # update the discriminator weights from the real data\n",
    "        D.backward_real_data(data)\n",
    "    \n",
    "        # use some noise for input\n",
    "        z = np.random.rand()\n",
    "\n",
    "        # calculate discriminator error for plot\n",
    "        error = np.sum(D.error_real_data(data) + D.error_fake_data(z))\n",
    "        discriminator_error.append(error)\n",
    "        \n",
    "        # calculate generator error for plot\n",
    "        error = G.error(z, D)\n",
    "        generator_error.append(error)\n",
    "        \n",
    "        # generate fake data\n",
    "        fake_data = G.forward(z)\n",
    "        fake_datas.append(fake_data)\n",
    "        \n",
    "        # update the discriminator weights from the fake data\n",
    "        D.backward_fake_data(fake_data)\n",
    "    \n",
    "        # update the generator weights from the fake data\n",
    "        G.backward(z, D)\n",
    "        \n",
    "    discriminator_errors.append(np.mean(discriminator_error))\n",
    "    generator_errors.append(np.mean(generator_error))\n",
    "    \n",
    "    if epoch % 10 == 0:\n",
    "        figs = mlplot.plot_generator(fake_datas, epoch=epoch)\n",
    "        image = mlplot.fig2img(figs[0])\n",
    "        images.append(image)"
   ]
  },
  {
   "cell_type": "code",
   "execution_count": 9,
   "id": "00c00e99-f32a-48fd-9be8-1750c423f85b",
   "metadata": {},
   "outputs": [
    {
     "data": {
      "image/png": "[encoded data removed]",
      "text/plain": [
       "<Figure size 1152x360 with 2 Axes>"
      ]
     },
     "metadata": {
      "needs_background": "light"
     },
     "output_type": "display_data"
    }
   ],
   "source": [
    "mlplot.plot_errors(generator_errors, discriminator_errors)"
   ]
  },
  {
   "cell_type": "code",
   "execution_count": 10,
   "id": "870586c5-d2de-423e-866c-c8056ea58e69",
   "metadata": {},
   "outputs": [
    {
     "name": "stdout",
     "output_type": "stream",
     "text": [
      "Weights: [-0.20724256 -0.4842511  -1.20376619  1.03133993]\n",
      "Biases:  [ 2.32128284 -3.10343015 -2.88381501  2.19506534]\n"
     ]
    }
   ],
   "source": [
    "print(f'Weights: {G.weights}\\nBiases:  {G.biases}')"
   ]
  },
  {
   "cell_type": "code",
   "execution_count": 13,
   "id": "38749315-7e1d-4caf-a602-527f20afc4b6",
   "metadata": {},
   "outputs": [],
   "source": [
    "from IPython.display import Image\n",
    "\n",
    "images[0].save('images/simple_gan.gif', save_all=True, append_images=images[1:], optimize=False, duration=80, loop=0)\n",
    "#Image(filename='images/simple_gan.gif')"
   ]
  },
  {
   "cell_type": "markdown",
   "id": "0d346bbc-456d-4633-9e6c-d4ac0c624301",
   "metadata": {},
   "source": [
    "![gan](images/simple_gan.gif)"
   ]
  },
  {
   "cell_type": "markdown",
   "id": "b96a1427-21b0-4116-9612-1572f14e19de",
   "metadata": {},
   "source": [
    "### Generated Data\n",
    "\n",
    "Noise Data:"
   ]
  },
  {
   "cell_type": "code",
   "execution_count": 14,
   "id": "ad15c520-f87c-40c0-9fee-8a83a3a76c63",
   "metadata": {},
   "outputs": [
    {
     "data": {
      "image/png": "[encoded data removed]",
      "text/plain": [
       "<Figure size 720x144 with 10 Axes>"
      ]
     },
     "metadata": {
      "needs_background": "light"
     },
     "output_type": "display_data"
    }
   ],
   "source": [
    "noise = [np.random.randn(2,2) for i in range(10)]\n",
    "mlplot.plot_gan_samples(noise);"
   ]
  },
  {
   "cell_type": "markdown",
   "id": "36975ca3-336d-41a6-92e7-f5347e7146cb",
   "metadata": {},
   "source": [
    "Generated Data of trained Generator"
   ]
  },
  {
   "cell_type": "code",
   "execution_count": 15,
   "id": "06937d06-614e-4ff4-9cd2-3fa0eb3708ba",
   "metadata": {},
   "outputs": [
    {
     "data": {
      "image/png": "[encoded data removed]",
      "text/plain": [
       "<Figure size 720x144 with 10 Axes>"
      ]
     },
     "metadata": {
      "needs_background": "light"
     },
     "output_type": "display_data"
    }
   ],
   "source": [
    "generated_data = [sigmoid(np.random.rand() * G.weights + G.biases) for i in range(10)]\n",
    "mlplot.plot_gan_samples(generated_data);"
   ]
  },
  {
   "cell_type": "code",
   "execution_count": null,
   "id": "22fdd0bf-b7c9-4201-ba4d-6bd979a92890",
   "metadata": {},
   "outputs": [],
   "source": []
  }
 ],
 "metadata": {
  "kernelspec": {
   "display_name": "Python 3 (ipykernel)",
   "language": "python",
   "name": "python3"
  },
  "language_info": {
   "codemirror_mode": {
    "name": "ipython",
    "version": 3
   },
   "file_extension": ".py",
   "mimetype": "text/x-python",
   "name": "python",
   "nbconvert_exporter": "python",
   "pygments_lexer": "ipython3",
   "version": "3.9.7"
  }
 },
 "nbformat": 4,
 "nbformat_minor": 5
}
