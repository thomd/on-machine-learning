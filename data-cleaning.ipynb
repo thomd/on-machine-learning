{
 "cells": [
  {
   "cell_type": "markdown",
   "id": "5aaa24f7-033d-4ed2-8581-810e29f8dadb",
   "metadata": {},
   "source": [
    "# Data Cleaning\n",
    "\n",
    "A typical **data clean** process for **machine learning tasks** contain the following steps in this order:\n",
    "\n",
    "1. Import Data\n",
    "2. Merge Datasets\n",
    "3. Rebuild Missing Data\n",
    "4. Standardize\n",
    "5. Normaize\n",
    "6. De-Duplicate\n",
    "7. Verify and Enrich\n",
    "8. Export Data\n",
    "\n",
    "The following steps describe an **exemplary** data cleaning process."
   ]
  },
  {
   "cell_type": "markdown",
   "id": "9e9bf8c8-f1d7-4ae3-88c3-5096df7e4e98",
   "metadata": {},
   "source": [
    "## 1. Import Data\n",
    "\n",
    "We load two versions of the **Titanic** dataset as `df1` and `df2` respectively and the [New York City Airbnb Open Data](https://www.kaggle.com/dgomonov/new-york-city-airbnb-open-data) dataset as `airbnb`."
   ]
  },
  {
   "cell_type": "code",
   "execution_count": 1,
   "id": "60675c3e-9fc8-431e-9321-3c246381dd56",
   "metadata": {},
   "outputs": [],
   "source": [
    "import pandas as pd\n",
    "import seaborn as sns\n",
    "import matplotlib.pyplot as plt\n",
    "import numpy as np"
   ]
  },
  {
   "cell_type": "markdown",
   "id": "a9f24aef-ca72-417d-b4d4-a7c0e376b0a1",
   "metadata": {},
   "source": [
    "The **Seaborn Titanic** Dataset:"
   ]
  },
  {
   "cell_type": "code",
   "execution_count": 2,
   "id": "07fc8fd0-425e-465f-a351-0148d2601502",
   "metadata": {},
   "outputs": [
    {
     "data": {
      "text/html": [
       "<div>\n",
       "<style scoped>\n",
       "    .dataframe tbody tr th:only-of-type {\n",
       "        vertical-align: middle;\n",
       "    }\n",
       "\n",
       "    .dataframe tbody tr th {\n",
       "        vertical-align: top;\n",
       "    }\n",
       "\n",
       "    .dataframe thead th {\n",
       "        text-align: right;\n",
       "    }\n",
       "</style>\n",
       "<table border=\"1\" class=\"dataframe\">\n",
       "  <thead>\n",
       "    <tr style=\"text-align: right;\">\n",
       "      <th></th>\n",
       "      <th>survived</th>\n",
       "      <th>pclass</th>\n",
       "      <th>sex</th>\n",
       "      <th>age</th>\n",
       "      <th>sibsp</th>\n",
       "      <th>parch</th>\n",
       "      <th>fare</th>\n",
       "      <th>embarked</th>\n",
       "      <th>class</th>\n",
       "      <th>who</th>\n",
       "      <th>adult_male</th>\n",
       "      <th>deck</th>\n",
       "      <th>embark_town</th>\n",
       "      <th>alive</th>\n",
       "      <th>alone</th>\n",
       "    </tr>\n",
       "  </thead>\n",
       "  <tbody>\n",
       "    <tr>\n",
       "      <th>0</th>\n",
       "      <td>0</td>\n",
       "      <td>3</td>\n",
       "      <td>male</td>\n",
       "      <td>22.0</td>\n",
       "      <td>1</td>\n",
       "      <td>0</td>\n",
       "      <td>7.2500</td>\n",
       "      <td>S</td>\n",
       "      <td>Third</td>\n",
       "      <td>man</td>\n",
       "      <td>True</td>\n",
       "      <td>NaN</td>\n",
       "      <td>Southampton</td>\n",
       "      <td>no</td>\n",
       "      <td>False</td>\n",
       "    </tr>\n",
       "    <tr>\n",
       "      <th>1</th>\n",
       "      <td>1</td>\n",
       "      <td>1</td>\n",
       "      <td>female</td>\n",
       "      <td>38.0</td>\n",
       "      <td>1</td>\n",
       "      <td>0</td>\n",
       "      <td>71.2833</td>\n",
       "      <td>C</td>\n",
       "      <td>First</td>\n",
       "      <td>woman</td>\n",
       "      <td>False</td>\n",
       "      <td>C</td>\n",
       "      <td>Cherbourg</td>\n",
       "      <td>yes</td>\n",
       "      <td>False</td>\n",
       "    </tr>\n",
       "    <tr>\n",
       "      <th>2</th>\n",
       "      <td>1</td>\n",
       "      <td>3</td>\n",
       "      <td>female</td>\n",
       "      <td>26.0</td>\n",
       "      <td>0</td>\n",
       "      <td>0</td>\n",
       "      <td>7.9250</td>\n",
       "      <td>S</td>\n",
       "      <td>Third</td>\n",
       "      <td>woman</td>\n",
       "      <td>False</td>\n",
       "      <td>NaN</td>\n",
       "      <td>Southampton</td>\n",
       "      <td>yes</td>\n",
       "      <td>True</td>\n",
       "    </tr>\n",
       "    <tr>\n",
       "      <th>3</th>\n",
       "      <td>1</td>\n",
       "      <td>1</td>\n",
       "      <td>female</td>\n",
       "      <td>35.0</td>\n",
       "      <td>1</td>\n",
       "      <td>0</td>\n",
       "      <td>53.1000</td>\n",
       "      <td>S</td>\n",
       "      <td>First</td>\n",
       "      <td>woman</td>\n",
       "      <td>False</td>\n",
       "      <td>C</td>\n",
       "      <td>Southampton</td>\n",
       "      <td>yes</td>\n",
       "      <td>False</td>\n",
       "    </tr>\n",
       "    <tr>\n",
       "      <th>4</th>\n",
       "      <td>0</td>\n",
       "      <td>3</td>\n",
       "      <td>male</td>\n",
       "      <td>35.0</td>\n",
       "      <td>0</td>\n",
       "      <td>0</td>\n",
       "      <td>8.0500</td>\n",
       "      <td>S</td>\n",
       "      <td>Third</td>\n",
       "      <td>man</td>\n",
       "      <td>True</td>\n",
       "      <td>NaN</td>\n",
       "      <td>Southampton</td>\n",
       "      <td>no</td>\n",
       "      <td>True</td>\n",
       "    </tr>\n",
       "  </tbody>\n",
       "</table>\n",
       "</div>"
      ],
      "text/plain": [
       "   survived  pclass     sex   age  sibsp  parch     fare embarked  class  \\\n",
       "0         0       3    male  22.0      1      0   7.2500        S  Third   \n",
       "1         1       1  female  38.0      1      0  71.2833        C  First   \n",
       "2         1       3  female  26.0      0      0   7.9250        S  Third   \n",
       "3         1       1  female  35.0      1      0  53.1000        S  First   \n",
       "4         0       3    male  35.0      0      0   8.0500        S  Third   \n",
       "\n",
       "     who  adult_male deck  embark_town alive  alone  \n",
       "0    man        True  NaN  Southampton    no  False  \n",
       "1  woman       False    C    Cherbourg   yes  False  \n",
       "2  woman       False  NaN  Southampton   yes   True  \n",
       "3  woman       False    C  Southampton   yes  False  \n",
       "4    man        True  NaN  Southampton    no   True  "
      ]
     },
     "execution_count": 2,
     "metadata": {},
     "output_type": "execute_result"
    }
   ],
   "source": [
    "df1 = sns.load_dataset('titanic')\n",
    "df1.head()"
   ]
  },
  {
   "cell_type": "markdown",
   "id": "9ddf41fd-fb91-4f15-a11d-fdce53e7dd50",
   "metadata": {},
   "source": [
    "Call `info()` to get information about the data frame like the shape (rows, columns), the data type of our features, and the memory usage:"
   ]
  },
  {
   "cell_type": "code",
   "execution_count": 3,
   "id": "ffd20b90-6ae8-4f95-bdbd-5c1c7716fc08",
   "metadata": {},
   "outputs": [
    {
     "name": "stdout",
     "output_type": "stream",
     "text": [
      "<class 'pandas.core.frame.DataFrame'>\n",
      "RangeIndex: 891 entries, 0 to 890\n",
      "Data columns (total 15 columns):\n",
      " #   Column       Non-Null Count  Dtype   \n",
      "---  ------       --------------  -----   \n",
      " 0   survived     891 non-null    int64   \n",
      " 1   pclass       891 non-null    int64   \n",
      " 2   sex          891 non-null    object  \n",
      " 3   age          714 non-null    float64 \n",
      " 4   sibsp        891 non-null    int64   \n",
      " 5   parch        891 non-null    int64   \n",
      " 6   fare         891 non-null    float64 \n",
      " 7   embarked     889 non-null    object  \n",
      " 8   class        891 non-null    category\n",
      " 9   who          891 non-null    object  \n",
      " 10  adult_male   891 non-null    bool    \n",
      " 11  deck         203 non-null    category\n",
      " 12  embark_town  889 non-null    object  \n",
      " 13  alive        891 non-null    object  \n",
      " 14  alone        891 non-null    bool    \n",
      "dtypes: bool(2), category(2), float64(2), int64(4), object(5)\n",
      "memory usage: 80.7+ KB\n"
     ]
    }
   ],
   "source": [
    "df1.info()"
   ]
  },
  {
   "cell_type": "markdown",
   "id": "b61af6ad-5803-43d9-8545-76685dab721d",
   "metadata": {},
   "source": [
    "The **Titanic** Dataset from **Open ML**:"
   ]
  },
  {
   "cell_type": "code",
   "execution_count": 4,
   "id": "4f809731-b60f-40e6-8d70-e566196adb5d",
   "metadata": {},
   "outputs": [
    {
     "data": {
      "text/html": [
       "<div>\n",
       "<style scoped>\n",
       "    .dataframe tbody tr th:only-of-type {\n",
       "        vertical-align: middle;\n",
       "    }\n",
       "\n",
       "    .dataframe tbody tr th {\n",
       "        vertical-align: top;\n",
       "    }\n",
       "\n",
       "    .dataframe thead th {\n",
       "        text-align: right;\n",
       "    }\n",
       "</style>\n",
       "<table border=\"1\" class=\"dataframe\">\n",
       "  <thead>\n",
       "    <tr style=\"text-align: right;\">\n",
       "      <th></th>\n",
       "      <th>pclass</th>\n",
       "      <th>name</th>\n",
       "      <th>sex</th>\n",
       "      <th>age</th>\n",
       "      <th>sibsp</th>\n",
       "      <th>parch</th>\n",
       "      <th>ticket</th>\n",
       "      <th>fare</th>\n",
       "      <th>cabin</th>\n",
       "      <th>embarked</th>\n",
       "      <th>boat</th>\n",
       "      <th>body</th>\n",
       "      <th>home.dest</th>\n",
       "      <th>survived</th>\n",
       "    </tr>\n",
       "  </thead>\n",
       "  <tbody>\n",
       "    <tr>\n",
       "      <th>0</th>\n",
       "      <td>1.0</td>\n",
       "      <td>Allen, Miss. Elisabeth Walton</td>\n",
       "      <td>female</td>\n",
       "      <td>29.0000</td>\n",
       "      <td>0.0</td>\n",
       "      <td>0.0</td>\n",
       "      <td>24160</td>\n",
       "      <td>211.3375</td>\n",
       "      <td>B5</td>\n",
       "      <td>S</td>\n",
       "      <td>2</td>\n",
       "      <td>NaN</td>\n",
       "      <td>St Louis, MO</td>\n",
       "      <td>1</td>\n",
       "    </tr>\n",
       "    <tr>\n",
       "      <th>1</th>\n",
       "      <td>1.0</td>\n",
       "      <td>Allison, Master. Hudson Trevor</td>\n",
       "      <td>male</td>\n",
       "      <td>0.9167</td>\n",
       "      <td>1.0</td>\n",
       "      <td>2.0</td>\n",
       "      <td>113781</td>\n",
       "      <td>151.5500</td>\n",
       "      <td>C22 C26</td>\n",
       "      <td>S</td>\n",
       "      <td>11</td>\n",
       "      <td>NaN</td>\n",
       "      <td>Montreal, PQ / Chesterville, ON</td>\n",
       "      <td>1</td>\n",
       "    </tr>\n",
       "    <tr>\n",
       "      <th>2</th>\n",
       "      <td>1.0</td>\n",
       "      <td>Allison, Miss. Helen Loraine</td>\n",
       "      <td>female</td>\n",
       "      <td>2.0000</td>\n",
       "      <td>1.0</td>\n",
       "      <td>2.0</td>\n",
       "      <td>113781</td>\n",
       "      <td>151.5500</td>\n",
       "      <td>C22 C26</td>\n",
       "      <td>S</td>\n",
       "      <td>None</td>\n",
       "      <td>NaN</td>\n",
       "      <td>Montreal, PQ / Chesterville, ON</td>\n",
       "      <td>0</td>\n",
       "    </tr>\n",
       "    <tr>\n",
       "      <th>3</th>\n",
       "      <td>1.0</td>\n",
       "      <td>Allison, Mr. Hudson Joshua Creighton</td>\n",
       "      <td>male</td>\n",
       "      <td>30.0000</td>\n",
       "      <td>1.0</td>\n",
       "      <td>2.0</td>\n",
       "      <td>113781</td>\n",
       "      <td>151.5500</td>\n",
       "      <td>C22 C26</td>\n",
       "      <td>S</td>\n",
       "      <td>None</td>\n",
       "      <td>135.0</td>\n",
       "      <td>Montreal, PQ / Chesterville, ON</td>\n",
       "      <td>0</td>\n",
       "    </tr>\n",
       "    <tr>\n",
       "      <th>4</th>\n",
       "      <td>1.0</td>\n",
       "      <td>Allison, Mrs. Hudson J C (Bessie Waldo Daniels)</td>\n",
       "      <td>female</td>\n",
       "      <td>25.0000</td>\n",
       "      <td>1.0</td>\n",
       "      <td>2.0</td>\n",
       "      <td>113781</td>\n",
       "      <td>151.5500</td>\n",
       "      <td>C22 C26</td>\n",
       "      <td>S</td>\n",
       "      <td>None</td>\n",
       "      <td>NaN</td>\n",
       "      <td>Montreal, PQ / Chesterville, ON</td>\n",
       "      <td>0</td>\n",
       "    </tr>\n",
       "  </tbody>\n",
       "</table>\n",
       "</div>"
      ],
      "text/plain": [
       "   pclass                                             name     sex      age  \\\n",
       "0     1.0                    Allen, Miss. Elisabeth Walton  female  29.0000   \n",
       "1     1.0                   Allison, Master. Hudson Trevor    male   0.9167   \n",
       "2     1.0                     Allison, Miss. Helen Loraine  female   2.0000   \n",
       "3     1.0             Allison, Mr. Hudson Joshua Creighton    male  30.0000   \n",
       "4     1.0  Allison, Mrs. Hudson J C (Bessie Waldo Daniels)  female  25.0000   \n",
       "\n",
       "   sibsp  parch  ticket      fare    cabin embarked  boat   body  \\\n",
       "0    0.0    0.0   24160  211.3375       B5        S     2    NaN   \n",
       "1    1.0    2.0  113781  151.5500  C22 C26        S    11    NaN   \n",
       "2    1.0    2.0  113781  151.5500  C22 C26        S  None    NaN   \n",
       "3    1.0    2.0  113781  151.5500  C22 C26        S  None  135.0   \n",
       "4    1.0    2.0  113781  151.5500  C22 C26        S  None    NaN   \n",
       "\n",
       "                         home.dest survived  \n",
       "0                     St Louis, MO        1  \n",
       "1  Montreal, PQ / Chesterville, ON        1  \n",
       "2  Montreal, PQ / Chesterville, ON        0  \n",
       "3  Montreal, PQ / Chesterville, ON        0  \n",
       "4  Montreal, PQ / Chesterville, ON        0  "
      ]
     },
     "execution_count": 4,
     "metadata": {},
     "output_type": "execute_result"
    }
   ],
   "source": [
    "from sklearn.datasets import fetch_openml\n",
    "titanic = fetch_openml('titanic', version=1, as_frame=True)\n",
    "df2, df2['survived'] = titanic.data, titanic.target\n",
    "df2.head()"
   ]
  },
  {
   "cell_type": "markdown",
   "id": "33043da3-990e-4aef-b86b-6f2b5cf9e76c",
   "metadata": {},
   "source": [
    "The **New York City Airbnb Open Data** Dataset:"
   ]
  },
  {
   "cell_type": "code",
   "execution_count": 5,
   "id": "f12de3b3-8f71-475f-a03f-f3f5465a2470",
   "metadata": {},
   "outputs": [
    {
     "data": {
      "text/html": [
       "<div>\n",
       "<style scoped>\n",
       "    .dataframe tbody tr th:only-of-type {\n",
       "        vertical-align: middle;\n",
       "    }\n",
       "\n",
       "    .dataframe tbody tr th {\n",
       "        vertical-align: top;\n",
       "    }\n",
       "\n",
       "    .dataframe thead th {\n",
       "        text-align: right;\n",
       "    }\n",
       "</style>\n",
       "<table border=\"1\" class=\"dataframe\">\n",
       "  <thead>\n",
       "    <tr style=\"text-align: right;\">\n",
       "      <th></th>\n",
       "      <th>id</th>\n",
       "      <th>name</th>\n",
       "      <th>host_id</th>\n",
       "      <th>host_name</th>\n",
       "      <th>neighbourhood_group</th>\n",
       "      <th>neighbourhood</th>\n",
       "      <th>latitude</th>\n",
       "      <th>longitude</th>\n",
       "      <th>room_type</th>\n",
       "      <th>price</th>\n",
       "      <th>minimum_nights</th>\n",
       "      <th>number_of_reviews</th>\n",
       "      <th>last_review</th>\n",
       "      <th>reviews_per_month</th>\n",
       "      <th>calculated_host_listings_count</th>\n",
       "      <th>availability_365</th>\n",
       "    </tr>\n",
       "  </thead>\n",
       "  <tbody>\n",
       "    <tr>\n",
       "      <th>0</th>\n",
       "      <td>2539</td>\n",
       "      <td>Clean &amp; quiet apt home by the park</td>\n",
       "      <td>2787</td>\n",
       "      <td>John</td>\n",
       "      <td>Brooklyn</td>\n",
       "      <td>Kensington</td>\n",
       "      <td>40.64749</td>\n",
       "      <td>-73.97237</td>\n",
       "      <td>Private room</td>\n",
       "      <td>149</td>\n",
       "      <td>1</td>\n",
       "      <td>9</td>\n",
       "      <td>2018-10-19</td>\n",
       "      <td>0.21</td>\n",
       "      <td>6</td>\n",
       "      <td>365</td>\n",
       "    </tr>\n",
       "    <tr>\n",
       "      <th>1</th>\n",
       "      <td>2595</td>\n",
       "      <td>Skylit Midtown Castle</td>\n",
       "      <td>2845</td>\n",
       "      <td>Jennifer</td>\n",
       "      <td>Manhattan</td>\n",
       "      <td>Midtown</td>\n",
       "      <td>40.75362</td>\n",
       "      <td>-73.98377</td>\n",
       "      <td>Entire home/apt</td>\n",
       "      <td>225</td>\n",
       "      <td>1</td>\n",
       "      <td>45</td>\n",
       "      <td>2019-05-21</td>\n",
       "      <td>0.38</td>\n",
       "      <td>2</td>\n",
       "      <td>355</td>\n",
       "    </tr>\n",
       "    <tr>\n",
       "      <th>2</th>\n",
       "      <td>3647</td>\n",
       "      <td>THE VILLAGE OF HARLEM....NEW YORK !</td>\n",
       "      <td>4632</td>\n",
       "      <td>Elisabeth</td>\n",
       "      <td>Manhattan</td>\n",
       "      <td>Harlem</td>\n",
       "      <td>40.80902</td>\n",
       "      <td>-73.94190</td>\n",
       "      <td>Private room</td>\n",
       "      <td>150</td>\n",
       "      <td>3</td>\n",
       "      <td>0</td>\n",
       "      <td>NaN</td>\n",
       "      <td>NaN</td>\n",
       "      <td>1</td>\n",
       "      <td>365</td>\n",
       "    </tr>\n",
       "    <tr>\n",
       "      <th>3</th>\n",
       "      <td>3831</td>\n",
       "      <td>Cozy Entire Floor of Brownstone</td>\n",
       "      <td>4869</td>\n",
       "      <td>LisaRoxanne</td>\n",
       "      <td>Brooklyn</td>\n",
       "      <td>Clinton Hill</td>\n",
       "      <td>40.68514</td>\n",
       "      <td>-73.95976</td>\n",
       "      <td>Entire home/apt</td>\n",
       "      <td>89</td>\n",
       "      <td>1</td>\n",
       "      <td>270</td>\n",
       "      <td>2019-07-05</td>\n",
       "      <td>4.64</td>\n",
       "      <td>1</td>\n",
       "      <td>194</td>\n",
       "    </tr>\n",
       "    <tr>\n",
       "      <th>4</th>\n",
       "      <td>5022</td>\n",
       "      <td>Entire Apt: Spacious Studio/Loft by central park</td>\n",
       "      <td>7192</td>\n",
       "      <td>Laura</td>\n",
       "      <td>Manhattan</td>\n",
       "      <td>East Harlem</td>\n",
       "      <td>40.79851</td>\n",
       "      <td>-73.94399</td>\n",
       "      <td>Entire home/apt</td>\n",
       "      <td>80</td>\n",
       "      <td>10</td>\n",
       "      <td>9</td>\n",
       "      <td>2018-11-19</td>\n",
       "      <td>0.10</td>\n",
       "      <td>1</td>\n",
       "      <td>0</td>\n",
       "    </tr>\n",
       "  </tbody>\n",
       "</table>\n",
       "</div>"
      ],
      "text/plain": [
       "     id                                              name  host_id  \\\n",
       "0  2539                Clean & quiet apt home by the park     2787   \n",
       "1  2595                             Skylit Midtown Castle     2845   \n",
       "2  3647               THE VILLAGE OF HARLEM....NEW YORK !     4632   \n",
       "3  3831                   Cozy Entire Floor of Brownstone     4869   \n",
       "4  5022  Entire Apt: Spacious Studio/Loft by central park     7192   \n",
       "\n",
       "     host_name neighbourhood_group neighbourhood  latitude  longitude  \\\n",
       "0         John            Brooklyn    Kensington  40.64749  -73.97237   \n",
       "1     Jennifer           Manhattan       Midtown  40.75362  -73.98377   \n",
       "2    Elisabeth           Manhattan        Harlem  40.80902  -73.94190   \n",
       "3  LisaRoxanne            Brooklyn  Clinton Hill  40.68514  -73.95976   \n",
       "4        Laura           Manhattan   East Harlem  40.79851  -73.94399   \n",
       "\n",
       "         room_type  price  minimum_nights  number_of_reviews last_review  \\\n",
       "0     Private room    149               1                  9  2018-10-19   \n",
       "1  Entire home/apt    225               1                 45  2019-05-21   \n",
       "2     Private room    150               3                  0         NaN   \n",
       "3  Entire home/apt     89               1                270  2019-07-05   \n",
       "4  Entire home/apt     80              10                  9  2018-11-19   \n",
       "\n",
       "   reviews_per_month  calculated_host_listings_count  availability_365  \n",
       "0               0.21                               6               365  \n",
       "1               0.38                               2               355  \n",
       "2                NaN                               1               365  \n",
       "3               4.64                               1               194  \n",
       "4               0.10                               1                 0  "
      ]
     },
     "execution_count": 5,
     "metadata": {},
     "output_type": "execute_result"
    }
   ],
   "source": [
    "airbnb = pd.read_csv('./data/ab_nyc_2019.csv.zip', compression='zip')\n",
    "airbnb.head()"
   ]
  },
  {
   "cell_type": "code",
   "execution_count": 6,
   "id": "48c97b12-2bec-48b5-bb14-033f9d899b24",
   "metadata": {},
   "outputs": [
    {
     "name": "stdout",
     "output_type": "stream",
     "text": [
      "<class 'pandas.core.frame.DataFrame'>\n",
      "RangeIndex: 48895 entries, 0 to 48894\n",
      "Data columns (total 16 columns):\n",
      " #   Column                          Non-Null Count  Dtype  \n",
      "---  ------                          --------------  -----  \n",
      " 0   id                              48895 non-null  int64  \n",
      " 1   name                            48879 non-null  object \n",
      " 2   host_id                         48895 non-null  int64  \n",
      " 3   host_name                       48874 non-null  object \n",
      " 4   neighbourhood_group             48895 non-null  object \n",
      " 5   neighbourhood                   48895 non-null  object \n",
      " 6   latitude                        48895 non-null  float64\n",
      " 7   longitude                       48895 non-null  float64\n",
      " 8   room_type                       48895 non-null  object \n",
      " 9   price                           48895 non-null  int64  \n",
      " 10  minimum_nights                  48895 non-null  int64  \n",
      " 11  number_of_reviews               48895 non-null  int64  \n",
      " 12  last_review                     38843 non-null  object \n",
      " 13  reviews_per_month               38843 non-null  float64\n",
      " 14  calculated_host_listings_count  48895 non-null  int64  \n",
      " 15  availability_365                48895 non-null  int64  \n",
      "dtypes: float64(3), int64(7), object(6)\n",
      "memory usage: 6.0+ MB\n"
     ]
    }
   ],
   "source": [
    "airbnb.info()"
   ]
  },
  {
   "cell_type": "markdown",
   "id": "13e2d5f7-af2b-46e0-93c6-3768df0a56e2",
   "metadata": {},
   "source": [
    "Separate features into **numerical** and **categorical** features:"
   ]
  },
  {
   "cell_type": "code",
   "execution_count": 7,
   "id": "8456eeeb-65da-4cf2-89b6-9160dbc7c7c3",
   "metadata": {},
   "outputs": [
    {
     "name": "stdout",
     "output_type": "stream",
     "text": [
      "Non-Numeric Columns:\n",
      "- sex\n",
      "- embarked\n",
      "- who\n",
      "- embark_town\n",
      "- alive\n",
      "\n",
      "Numeric Columns:\n",
      "- survived\n",
      "- pclass\n",
      "- age\n",
      "- sibsp\n",
      "- parch\n",
      "- fare\n",
      "- class\n",
      "- adult_male\n",
      "- deck\n",
      "- alone\n"
     ]
    }
   ],
   "source": [
    "def printColumnTypes(non_numeric_df, numeric_df):\n",
    "    print('Non-Numeric Columns:')\n",
    "    for col in non_numeric_df:\n",
    "        print(f'- {col}')\n",
    "    print('\\nNumeric Columns:')\n",
    "    for col in numeric_df:\n",
    "        print(f'- {col}')\n",
    "        \n",
    "cat_df = df1.select_dtypes(include=['object'])\n",
    "num_df = df1.select_dtypes(exclude=['object'])\n",
    "printColumnTypes(cat_df, num_df)"
   ]
  },
  {
   "cell_type": "markdown",
   "id": "62b0d4de-d1c4-474f-b91c-c0dc549c804a",
   "metadata": {},
   "source": [
    "## 2. Merge Datasets\n",
    "\n",
    "The Titanic dataset `df1` provided by **Seaborn** is complete in terms of a data analysis. In order to prepare a training dataset, the columns `survived` and `alive` must be removed as they are a target, not a feature.\n",
    "\n",
    "The Titanic dataset `df2` provided by **SciKit-Learn** is already divided into a feature set and a target set. For the task of data analysis, we merged the target into the dataset."
   ]
  },
  {
   "cell_type": "markdown",
   "id": "c6effd0f-1258-4e03-bb95-23a6c61fa575",
   "metadata": {},
   "source": [
    "## 3. Rebuild Missing Data\n",
    "\n",
    "The two common methods to deal with missing values are\n",
    "\n",
    "1. dropping the rows or columns. **Problem**: you are losing information that might be useful for prediction.\n",
    "2. adding them based on other observations i.e. the mean or median. **Problem**: adding values will introduce bias to the data\n",
    "\n",
    "**Thumb of rule**: You should try to add missing data instead of removing data\n"
   ]
  },
  {
   "cell_type": "markdown",
   "id": "9458d347-27e3-4329-a2d8-f08030f512da",
   "metadata": {},
   "source": [
    "### Identify Missing Values"
   ]
  },
  {
   "cell_type": "markdown",
   "id": "fc64b96c-37ec-44a8-832b-95a11e47969d",
   "metadata": {},
   "source": [
    "Get number of missing values per column:"
   ]
  },
  {
   "cell_type": "code",
   "execution_count": 13,
   "id": "114e0e32-dab6-4e39-a2fb-c5fd5fcbef16",
   "metadata": {},
   "outputs": [
    {
     "data": {
      "text/plain": [
       "survived         0\n",
       "pclass           0\n",
       "sex              0\n",
       "age            177\n",
       "sibsp            0\n",
       "parch            0\n",
       "fare             0\n",
       "embarked         2\n",
       "class            0\n",
       "who              0\n",
       "adult_male       0\n",
       "deck           688\n",
       "embark_town      2\n",
       "alive            0\n",
       "alone            0\n",
       "dtype: int64"
      ]
     },
     "execution_count": 13,
     "metadata": {},
     "output_type": "execute_result"
    }
   ],
   "source": [
    "df1.isna().sum()\n",
    "\n",
    "# the opposite is: `df1.count(0)`"
   ]
  },
  {
   "cell_type": "markdown",
   "id": "7db049fe-7b7d-4910-81ad-a1c864ce55b6",
   "metadata": {},
   "source": [
    "Print **heatmap** of missing values:"
   ]
  },
  {
   "cell_type": "code",
   "execution_count": 14,
   "id": "03ab57fd-8514-4d97-a600-7dbb129839af",
   "metadata": {},
   "outputs": [
    {
     "data": {
      "image/png": "[encoded data removed]",
      "text/plain": [
       "<Figure size 432x288 with 1 Axes>"
      ]
     },
     "metadata": {
      "needs_background": "light"
     },
     "output_type": "display_data"
    }
   ],
   "source": [
    "sns.set_context('talk', font_scale=1)\n",
    "sns.heatmap(df1.isnull(), yticklabels=False, cmap='Blues', cbar=False);"
   ]
  },
  {
   "cell_type": "markdown",
   "id": "26506032-d22a-411a-9b08-c73fe182fe4a",
   "metadata": {},
   "source": [
    "Count number of non-NA values per row"
   ]
  },
  {
   "cell_type": "code",
   "execution_count": 15,
   "id": "d406a361-d93b-49d8-b161-46508735239f",
   "metadata": {},
   "outputs": [
    {
     "data": {
      "text/plain": [
       "14    549\n",
       "15    182\n",
       "13    160\n",
       "dtype: int64"
      ]
     },
     "execution_count": 15,
     "metadata": {},
     "output_type": "execute_result"
    }
   ],
   "source": [
    "df1.count(1).value_counts()"
   ]
  },
  {
   "cell_type": "markdown",
   "id": "c8fe6956-103f-4c4c-95a2-0643377b5019",
   "metadata": {},
   "source": [
    "### Dropping Feature Columns\n",
    "\n",
    "Dropping feature usually isn’t recommended because you’re losing information. \n",
    "\n",
    "But if you’re sure that the column isn’t important, or simply has too many missing values, you can choose to drop them. "
   ]
  },
  {
   "cell_type": "code",
   "execution_count": 16,
   "id": "90a8917a-3b16-4add-916a-1220d36771c2",
   "metadata": {},
   "outputs": [
    {
     "data": {
      "text/plain": [
       "age            177\n",
       "embarked         2\n",
       "embark_town      2\n",
       "dtype: int64"
      ]
     },
     "execution_count": 16,
     "metadata": {},
     "output_type": "execute_result"
    }
   ],
   "source": [
    "colsToDrop = ['deck']\n",
    "df1.drop(colsToDrop, axis=1, inplace=True, errors='ignore')     # drop columns: axis=1, drop rows: axis=0\n",
    "\n",
    "df1.isna().sum()[df1.isna().sum() > 0]"
   ]
  },
  {
   "cell_type": "markdown",
   "id": "b3afd139-5944-411e-818f-fc076d133a89",
   "metadata": {},
   "source": [
    "### Dropping Data Rows\n",
    "\n",
    "Remove rows with `dropna()`.\n",
    "\n",
    "Here we drop the rows which have missing data in 'embarked' and 'embark_town':"
   ]
  },
  {
   "cell_type": "code",
   "execution_count": 17,
   "id": "edf63774-bb09-457e-a5c3-6a05b66160cf",
   "metadata": {},
   "outputs": [
    {
     "data": {
      "text/html": [
       "<div>\n",
       "<style scoped>\n",
       "    .dataframe tbody tr th:only-of-type {\n",
       "        vertical-align: middle;\n",
       "    }\n",
       "\n",
       "    .dataframe tbody tr th {\n",
       "        vertical-align: top;\n",
       "    }\n",
       "\n",
       "    .dataframe thead th {\n",
       "        text-align: right;\n",
       "    }\n",
       "</style>\n",
       "<table border=\"1\" class=\"dataframe\">\n",
       "  <thead>\n",
       "    <tr style=\"text-align: right;\">\n",
       "      <th></th>\n",
       "      <th>survived</th>\n",
       "      <th>pclass</th>\n",
       "      <th>sex</th>\n",
       "      <th>age</th>\n",
       "      <th>sibsp</th>\n",
       "      <th>parch</th>\n",
       "      <th>fare</th>\n",
       "      <th>embarked</th>\n",
       "      <th>class</th>\n",
       "      <th>who</th>\n",
       "      <th>adult_male</th>\n",
       "      <th>embark_town</th>\n",
       "      <th>alive</th>\n",
       "      <th>alone</th>\n",
       "    </tr>\n",
       "  </thead>\n",
       "  <tbody>\n",
       "    <tr>\n",
       "      <th>61</th>\n",
       "      <td>1</td>\n",
       "      <td>1</td>\n",
       "      <td>female</td>\n",
       "      <td>38.0</td>\n",
       "      <td>0</td>\n",
       "      <td>0</td>\n",
       "      <td>80.0</td>\n",
       "      <td>NaN</td>\n",
       "      <td>First</td>\n",
       "      <td>woman</td>\n",
       "      <td>False</td>\n",
       "      <td>NaN</td>\n",
       "      <td>yes</td>\n",
       "      <td>True</td>\n",
       "    </tr>\n",
       "    <tr>\n",
       "      <th>829</th>\n",
       "      <td>1</td>\n",
       "      <td>1</td>\n",
       "      <td>female</td>\n",
       "      <td>62.0</td>\n",
       "      <td>0</td>\n",
       "      <td>0</td>\n",
       "      <td>80.0</td>\n",
       "      <td>NaN</td>\n",
       "      <td>First</td>\n",
       "      <td>woman</td>\n",
       "      <td>False</td>\n",
       "      <td>NaN</td>\n",
       "      <td>yes</td>\n",
       "      <td>True</td>\n",
       "    </tr>\n",
       "  </tbody>\n",
       "</table>\n",
       "</div>"
      ],
      "text/plain": [
       "     survived  pclass     sex   age  sibsp  parch  fare embarked  class  \\\n",
       "61          1       1  female  38.0      0      0  80.0      NaN  First   \n",
       "829         1       1  female  62.0      0      0  80.0      NaN  First   \n",
       "\n",
       "       who  adult_male embark_town alive  alone  \n",
       "61   woman       False         NaN   yes   True  \n",
       "829  woman       False         NaN   yes   True  "
      ]
     },
     "execution_count": 17,
     "metadata": {},
     "output_type": "execute_result"
    }
   ],
   "source": [
    "df1[df1['embarked'].isna() & df1['embark_town'].isna()]"
   ]
  },
  {
   "cell_type": "code",
   "execution_count": 18,
   "id": "03534cb9-4910-4ca4-9752-8380d03a9677",
   "metadata": {},
   "outputs": [],
   "source": [
    "df1.dropna(subset=['embarked'], inplace=True)"
   ]
  },
  {
   "cell_type": "code",
   "execution_count": 19,
   "id": "8d6e50bf-b120-4581-a5e0-efa48c9f39bd",
   "metadata": {},
   "outputs": [
    {
     "data": {
      "text/plain": [
       "age    177\n",
       "dtype: int64"
      ]
     },
     "execution_count": 19,
     "metadata": {},
     "output_type": "execute_result"
    }
   ],
   "source": [
    "df1.isna().sum()[df1.isna().sum() > 0]"
   ]
  },
  {
   "cell_type": "markdown",
   "id": "58d18452-fbf9-4d56-a8f6-2012613ab7c8",
   "metadata": {},
   "source": [
    "### Add Missing Data (Imputing)\n",
    "\n",
    "There are three techniques for imputing:\n",
    "\n",
    "1. fill in null values based on given value (mean, median, mode or a specified value) with `fillna()`\n",
    "2. backward fill and forward fill (filling in missing values based on the value after or before the column) with `bfill` and `ffill`\n",
    "3. Sklearn built-in function `Simple_Imputer` that imputes missing values (typically used in a SciKit-Learn Pipeline)"
   ]
  },
  {
   "cell_type": "markdown",
   "id": "e2fa7d9d-b7ee-4ba1-84b7-7ca9ebad1b42",
   "metadata": {},
   "source": [
    "Inspecting the current `age` values using a boxplot,"
   ]
  },
  {
   "cell_type": "code",
   "execution_count": 20,
   "id": "93868228-20a7-4823-a4a9-fa4194f85305",
   "metadata": {},
   "outputs": [
    {
     "data": {
      "image/png": "[encoded data removed]",
      "text/plain": [
       "<Figure size 1080x288 with 2 Axes>"
      ]
     },
     "metadata": {
      "needs_background": "light"
     },
     "output_type": "display_data"
    }
   ],
   "source": [
    "fig, (ax1, ax2) = plt.subplots(1, 2, figsize=(15, 4))\n",
    "sns.boxplot(ax=ax1, data=df1, x='age')\n",
    "sns.histplot(ax=ax2, data=df1, x='age');"
   ]
  },
  {
   "cell_type": "markdown",
   "id": "31fdb94c-1ac2-40c7-b4b9-608526beabe9",
   "metadata": {},
   "source": [
    "we could decide to fill missing `age` values with the **median** of `age`:"
   ]
  },
  {
   "cell_type": "code",
   "execution_count": 21,
   "id": "fc502f1b-7451-480a-9455-ba05c18b7c79",
   "metadata": {},
   "outputs": [
    {
     "data": {
      "image/png": "[encoded data removed]",
      "text/plain": [
       "<Figure size 1080x288 with 2 Axes>"
      ]
     },
     "metadata": {
      "needs_background": "light"
     },
     "output_type": "display_data"
    }
   ],
   "source": [
    "# make a copy for evaluation of the result\n",
    "df11 = df1.copy()\n",
    "\n",
    "age_median = round(df11['age'].median(), 2)\n",
    "df11['age'].fillna(age_median, inplace=True)\n",
    "\n",
    "fig, (ax1, ax2) = plt.subplots(1, 2, figsize=(15, 4))\n",
    "sns.boxplot(ax=ax1, data=df11, x='age')\n",
    "sns.histplot(ax=ax2, data=df11, x='age');"
   ]
  },
  {
   "cell_type": "markdown",
   "id": "9589bbef-1f42-42e5-bb92-ad38fc4f086d",
   "metadata": {},
   "source": [
    "We could also decide to fill missing `age` values with the backward- or forward-fill:"
   ]
  },
  {
   "cell_type": "code",
   "execution_count": 22,
   "id": "da88d3c7-1c5c-4ca8-9c5c-ae9998a94bea",
   "metadata": {},
   "outputs": [],
   "source": [
    "# make a copy for evaluation of the result\n",
    "df12 = df1.copy()\n",
    "df12['age'].bfill(inplace=True)"
   ]
  },
  {
   "cell_type": "markdown",
   "id": "a27b9cbf-7d6e-4e1a-971c-720aade003fa",
   "metadata": {},
   "source": [
    "We could also decide to fill missing `age` values with `SimpleImputor` from the **sklearn library**:"
   ]
  },
  {
   "cell_type": "code",
   "execution_count": 23,
   "id": "589a0a01-7302-4bde-813d-c705f50326d5",
   "metadata": {},
   "outputs": [],
   "source": [
    "# df13 = df1.copy()\n",
    "from sklearn.impute import SimpleImputer\n",
    "imputer = SimpleImputer(missing_values=np.nan, strategy='median')\n",
    "\n",
    "df1[['age']] = imputer.fit_transform(df1[['age']])"
   ]
  },
  {
   "cell_type": "code",
   "execution_count": 24,
   "id": "1f98593e-230e-46cf-9037-3af5ae6636f6",
   "metadata": {},
   "outputs": [
    {
     "data": {
      "image/png": "[encoded data removed]",
      "text/plain": [
       "<Figure size 1080x288 with 2 Axes>"
      ]
     },
     "metadata": {
      "needs_background": "light"
     },
     "output_type": "display_data"
    }
   ],
   "source": [
    "fig, (ax1, ax2) = plt.subplots(1, 2, figsize=(15, 4))\n",
    "sns.boxplot(ax=ax1, data=df1, x='age')\n",
    "sns.histplot(ax=ax2, data=df1, x='age');"
   ]
  },
  {
   "cell_type": "markdown",
   "id": "73ca983b-30ee-4f7b-816c-48356ac098b5",
   "metadata": {},
   "source": [
    "So, finally all NA data is fixed:"
   ]
  },
  {
   "cell_type": "code",
   "execution_count": 25,
   "id": "07ab7aef-6e52-482f-9f81-121fb161eb91",
   "metadata": {},
   "outputs": [
    {
     "data": {
      "text/plain": [
       "0"
      ]
     },
     "execution_count": 25,
     "metadata": {},
     "output_type": "execute_result"
    }
   ],
   "source": [
    "df1.isna().any().sum()"
   ]
  },
  {
   "cell_type": "markdown",
   "id": "bc599335-763e-4dad-b216-0ece61b1e70e",
   "metadata": {},
   "source": [
    "### Replace NA Values\n",
    "\n",
    "Replacing values can be done with `fillna({column_name: replacement_for_NA})`.\n",
    "\n",
    "Supposed we'd like to replace all NA values of `name` of the `airbnb` dataframe with `None`, we'd do:"
   ]
  },
  {
   "cell_type": "code",
   "execution_count": 42,
   "id": "d60d85ca-e70e-49fe-9838-8b3eb19e49d9",
   "metadata": {},
   "outputs": [
    {
     "data": {
      "text/plain": [
       "0"
      ]
     },
     "execution_count": 42,
     "metadata": {},
     "output_type": "execute_result"
    }
   ],
   "source": [
    "airbnb.fillna({'name':'None'}, inplace=True)\n",
    "airbnb['name'].isna().sum()"
   ]
  },
  {
   "cell_type": "markdown",
   "id": "9389a0e1-c306-40b6-a5d8-07fe03a1e4d2",
   "metadata": {},
   "source": [
    "## Inconsistent Data / Irrelevant Features\n",
    "\n",
    "Inconsistent data refers to things like **spelling errors** in your data, column names that are **not relevant** to the data, the **wrong data type**, etc."
   ]
  },
  {
   "cell_type": "markdown",
   "id": "4b925cd1-6d2a-4130-9eb7-c871b191860a",
   "metadata": {},
   "source": [
    "### Remove Rows based on Regular Expressions\n",
    "\n",
    "Supposed you want to remove rows that contain a certain word, then use `str.contains()` to find the indexes that contain those rows.\n",
    "Then, using the `drop` function, and setting axis to index, I can supply the indexes I have and drop those rows:"
   ]
  },
  {
   "cell_type": "code",
   "execution_count": 47,
   "id": "0cb38a43-4bd0-455f-a9bd-a28f69214cd1",
   "metadata": {},
   "outputs": [
    {
     "name": "stdout",
     "output_type": "stream",
     "text": [
      "Series([], Name: name, dtype: object)\n"
     ]
    }
   ],
   "source": [
    "# example: remove rows that contain '[Nn]oisy'\n",
    "noisy = airbnb[airbnb['name'].str.contains('[Nn]oisy', regex=True)]\n",
    "print(noisy['name'])\n",
    "\n",
    "airbnb.drop(noisy.index, axis='index', inplace=True)"
   ]
  },
  {
   "cell_type": "markdown",
   "id": "14ffc670-a3a7-4e23-bab4-e788526f767e",
   "metadata": {},
   "source": [
    "# TODO \n",
    "\n",
    "* [How to handle categorical data in scikit with pandas](https://www.kaggle.com/getting-started/27270)"
   ]
  },
  {
   "cell_type": "code",
   "execution_count": null,
   "id": "ad4122b3-1ca8-4b2c-8daa-353d0b10a61f",
   "metadata": {},
   "outputs": [],
   "source": []
  }
 ],
 "metadata": {
  "kernelspec": {
   "display_name": "Python 3 (ipykernel)",
   "language": "python",
   "name": "python3"
  },
  "language_info": {
   "codemirror_mode": {
    "name": "ipython",
    "version": 3
   },
   "file_extension": ".py",
   "mimetype": "text/x-python",
   "name": "python",
   "nbconvert_exporter": "python",
   "pygments_lexer": "ipython3",
   "version": "3.9.7"
  }
 },
 "nbformat": 4,
 "nbformat_minor": 5
}
